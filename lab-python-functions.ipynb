{
 "cells": [
  {
   "cell_type": "markdown",
   "id": "25d7736c-ba17-4aff-b6bb-66eba20fbf4e",
   "metadata": {},
   "source": [
    "# Lab | Functions"
   ]
  },
  {
   "cell_type": "markdown",
   "id": "0c581062-8967-4d93-b06e-62833222f930",
   "metadata": {
    "tags": []
   },
   "source": [
    "## Exercise: Managing Customer Orders with Functions\n",
    "\n",
    "In the previous exercise, you improved the code for managing customer orders by using loops and flow control. Now, let's take it a step further and refactor the code by introducing functions.\n",
    "\n",
    "Follow the steps below to complete the exercise:\n",
    "\n",
    "1. Define a function named `initialize_inventory` that takes `products` as a parameter. Inside the function, implement the code for initializing the inventory dictionary using a loop and user input.\n",
    "\n",
    "2. Define a function named `get_customer_orders` that takes no parameters. Inside the function, implement the code for prompting the user to enter the product names using a loop. The function should return the `customer_orders` set.\n",
    "\n",
    "3. Define a function named `update_inventory` that takes `customer_orders` and `inventory` as parameters. Inside the function, implement the code for updating the inventory dictionary based on the customer orders.\n",
    "\n",
    "4. Define a function named `calculate_order_statistics` that takes `customer_orders` and `products` as parameters. Inside the function, implement the code for calculating the order statistics (total products ordered, and percentage of unique products ordered). The function should return these values.\n",
    "\n",
    "5. Define a function named `print_order_statistics` that takes `order_statistics` as a parameter. Inside the function, implement the code for printing the order statistics.\n",
    "\n",
    "6. Define a function named `print_updated_inventory` that takes `inventory` as a parameter. Inside the function, implement the code for printing the updated inventory.\n",
    "\n",
    "7. Call the functions in the appropriate sequence to execute the program and manage customer orders.\n",
    "\n",
    "Hints for functions:\n",
    "\n",
    "- Consider the input parameters required for each function and their return values.\n",
    "- Utilize function parameters and return values to transfer data between functions.\n",
    "- Test your functions individually to ensure they work correctly.\n",
    "\n",
    "\n"
   ]
  },
  {
   "cell_type": "code",
   "execution_count": 123,
   "id": "c3ddb811",
   "metadata": {},
   "outputs": [
    {
     "name": "stdout",
     "output_type": "stream",
     "text": [
      "{'t-shirt': 30, 'mug': 40, 'hat': 20, 'book': 10, 'keychain': 30}\n"
     ]
    }
   ],
   "source": [
    "# 1. Define a function named `initialize_inventory` that takes `products` as a parameter. Inside the function, implement the code for initializing the inventory dictionary using a loop and user input.\n",
    "products= (\"t-shirt\", \"mug\", \"hat\", \"book\", \"keychain\")\n",
    "inventory={}\n",
    "def initialize_inventory (products):\n",
    "    inventory={}\n",
    "    for product in products:\n",
    "        inventory[product]=int(input(f\"Introduce cantidad de {product}\"))\n",
    "    return inventory \n",
    "print(initialize_inventory (products))"
   ]
  },
  {
   "cell_type": "code",
   "execution_count": 124,
   "id": "3c0df0aa",
   "metadata": {},
   "outputs": [
    {
     "data": {
      "text/plain": [
       "{'book', 'hat', 'mug'}"
      ]
     },
     "execution_count": 124,
     "metadata": {},
     "output_type": "execute_result"
    }
   ],
   "source": [
    "# 2. Define a function named `get_customer_orders` that takes no parameters. Inside the function, implement the code for prompting the user to enter the product names using a loop. The function should return the `customer_orders` set.\n",
    "customer_orders = set()\n",
    "def get_customer_orders():\n",
    "    while True:\n",
    "        product = input(\"Introduce el nombre del producto (o escribe 'done' para terminar): \")\n",
    "        if product.lower() == 'done':\n",
    "            break\n",
    "        customer_orders.add(product)\n",
    "    return customer_orders\n",
    "get_customer_orders ()"
   ]
  },
  {
   "cell_type": "code",
   "execution_count": 125,
   "id": "8b362351",
   "metadata": {},
   "outputs": [
    {
     "data": {
      "text/plain": [
       "{}"
      ]
     },
     "execution_count": 125,
     "metadata": {},
     "output_type": "execute_result"
    }
   ],
   "source": [
    "# 3.Define a function named `update_inventory` that takes `customer_orders` and `inventory` as parameters. Inside the function, implement the code for updating the inventory dictionary based on the customer orders.\n",
    "\n",
    "\n",
    "def update_inventory (customer_orders, inventory):\n",
    "    for products in customer_orders:\n",
    "       if products in inventory.keys():\n",
    "            inventory [products]-=1\n",
    "    return inventory\n",
    "\n",
    "update_inventory (customer_orders, inventory)\n",
    "\n"
   ]
  },
  {
   "cell_type": "code",
   "execution_count": 126,
   "id": "0f078a1e",
   "metadata": {},
   "outputs": [
    {
     "data": {
      "text/plain": [
       "{'total': 3, 'percentage': 60.0}"
      ]
     },
     "execution_count": 126,
     "metadata": {},
     "output_type": "execute_result"
    }
   ],
   "source": [
    "# 4. Define a function named `calculate_order_statistics` that takes `customer_orders` and `products` as parameters. Inside the function, implement the code for calculating the order statistics (total products ordered, and percentage of unique products ordered). The function should return these values.\n",
    "order_statistics={'total':0,'percentage':0}\n",
    "def calculate_order_statistics (customer_orders,products):\n",
    "    order_statistics={'total':0,'percentage':0}\n",
    "    num_products = 0\n",
    "    num_products_ordered = 0\n",
    "    for product in products:\n",
    "        num_products += 1\n",
    "        if product in customer_orders:\n",
    "            num_products_ordered += 1\n",
    "            order_statistics['total'] += 1\n",
    "    order_statistics['percentage']=100 * num_products_ordered / num_products\n",
    "    return order_statistics\n",
    "calculate_order_statistics (customer_orders,products)\n",
    "\n"
   ]
  },
  {
   "cell_type": "code",
   "execution_count": 127,
   "id": "ed3686cc",
   "metadata": {},
   "outputs": [],
   "source": [
    "# 5. Define a function named `print_order_statistics` that takes `order_statistics` as a parameter. Inside the function, implement the code for printing the order statistics.\n",
    "def print_order_statistics (order_statistics):\n",
    "    total = order_statistics['total']\n",
    "    percentage = order_statistics['percentage']\n",
    "    print (f\"El total de productos ordenados es: {total}\")\n",
    "    print (f\"El porcentaje de productos únicos ordenados es: {percentage}\")"
   ]
  },
  {
   "cell_type": "code",
   "execution_count": 128,
   "id": "aef25744",
   "metadata": {},
   "outputs": [],
   "source": [
    "# 6. Define a function named `print_updated_inventory` that takes `inventory` as a parameter. Inside the function, implement the code for printing the updated inventory.\n",
    "def print_updated_inventory (inventory):\n",
    "    for product in inventory:\n",
    "        value = inventory[product]\n",
    "        print (f\"Tienes {value} {product} en tu inventario\")"
   ]
  },
  {
   "cell_type": "code",
   "execution_count": 129,
   "id": "6e993a3a",
   "metadata": {},
   "outputs": [
    {
     "name": "stdout",
     "output_type": "stream",
     "text": [
      "El total de productos ordenados es: 3\n",
      "El porcentaje de productos únicos ordenados es: 60.0\n",
      "Tienes 50 t-shirt en tu inventario\n",
      "Tienes 29 mug en tu inventario\n",
      "Tienes 21 hat en tu inventario\n",
      "Tienes 49 book en tu inventario\n",
      "Tienes 100 keychain en tu inventario\n"
     ]
    }
   ],
   "source": [
    "# 7. Call the functions in the appropriate sequence to execute the program and manage customer orders.\n",
    "\n",
    "inventory = initialize_inventory (products)\n",
    "customer_orders=get_customer_orders ()\n",
    "update_inventory(customer_orders, inventory)\n",
    "order_statistics= calculate_order_statistics (customer_orders,products)\n",
    "print_order_statistics (order_statistics)\n",
    "print_updated_inventory(inventory)"
   ]
  }
 ],
 "metadata": {
  "kernelspec": {
   "display_name": "Python 3 (ipykernel)",
   "language": "python",
   "name": "python3"
  },
  "language_info": {
   "codemirror_mode": {
    "name": "ipython",
    "version": 3
   },
   "file_extension": ".py",
   "mimetype": "text/x-python",
   "name": "python",
   "nbconvert_exporter": "python",
   "pygments_lexer": "ipython3",
   "version": "3.11.7"
  }
 },
 "nbformat": 4,
 "nbformat_minor": 5
}
